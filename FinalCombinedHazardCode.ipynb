{
 "cells": [
  {
   "cell_type": "markdown",
   "metadata": {},
   "source": [
    "<span style=\"font-size:32px\">**Creating Combined Hazard Maps for the San Francisco Bay**\n"
   ]
  },
  {
   "cell_type": "markdown",
   "metadata": {},
   "source": [
    "This code creates a map that combines risk for sea level rise, groundwater, and storm surge for the San Francisco Bay Area. Groundwater data from CoSMos should reflect the closest relative ART Sea Level Rise level, but not the added storm surge. Please read the methodology for more information."
   ]
  },
  {
   "cell_type": "code",
   "execution_count": null,
   "metadata": {},
   "outputs": [],
   "source": [
    "import arcpy\n",
    "from arcpy import env\n",
    "from arcpy.sa import * \n",
    "env.workspace = r\"P:\\GIS_Projects\\Groundwater\\RSAP_CombinedHazards\\Workspace\\Raw\" \n",
    "#Must replace workspace with your own workspace"
   ]
  },
  {
   "cell_type": "markdown",
   "metadata": {},
   "source": [
    "<span style=\"font-size:20px\">**STEP ONE:**\n",
    "Create One Bay Area Groundwater Layer binned by 3ft intervals"
   ]
  },
  {
   "cell_type": "markdown",
   "metadata": {},
   "source": [
    "**Must run this code in ArcPro!**\n",
    "*Use find and replace to Change XpXXm for each line of code with the correct SLR scenario for analysis*"
   ]
  },
  {
   "cell_type": "code",
   "execution_count": null,
   "metadata": {},
   "outputs": [],
   "source": [
    "myRemapRange = RemapRange([[-500, 0, 0], [0, .9144, 1], [.9144, 1.8288, 2],\n",
    "                            [1.8288, 2.7432, 3], [2.7432, 900, 4]]) \n",
    "#Creating bins for reclassifying Raster. 0=groundwater flooding/emergence; 1= 0-3ft depth; 2= 3-6ft depth; 3 =6-9ft depth; 4= >9ft depth"
   ]
  },
  {
   "cell_type": "markdown",
   "metadata": {},
   "source": [
    "**Must download and add original Water Table Depth rasters to the project map to perform analysis.** They can be found: <br>\"https://www.sciencebase.gov/catalog/item/5bda14abe4b0b3fc5cec39b0\" <br>\n",
    "<br>\n",
    "Choose Kh1p0 for each county and use the same scenario for each"
   ]
  },
  {
   "cell_type": "code",
   "execution_count": null,
   "metadata": {},
   "outputs": [],
   "source": [
    "AlamedaGW_kh1p0_slrXpXXm_Reclass = Reclassify(\"Alameda_wt_mhhw_noghb_Kh1p0_slrXpXXm.tif\", \"VALUE\", myRemapRange)\n",
    "SF_GW_kh1p0_slrXpXXm_Reclass = Reclassify(\"San_Francisco_wt_mhhw_noghb_Kh1p0_slrXpXXm.tif\", \"VALUE\", myRemapRange)\n",
    "Napa_GW_kh1p0_slrXpXXm_Reclass = Reclassify(\"Napa_wt_mhhw_noghb_Kh1p0_slrXpXXm.tif\", \"VALUE\", myRemapRange)\n",
    "Sonoma_GW_kh1p0_slrXpXXm_Reclass = Reclassify(\"Sonoma_wt_mhhw_noghb_Kh1p0_slrXpXXm.tif\", \"VALUE\", myRemapRange)\n",
    "Solano_GW_kh1p0_slrXpXXm_Reclass = Reclassify(\"Solano_wt_mhhw_noghb_Kh1p0_slrXpXXm.tif\", \"VALUE\", myRemapRange)\n",
    "San_Mateo_GW_kh1p0_slrXpXXm_Reclass = Reclassify(\"San_Mateo_wt_mhhw_noghb_Kh1p0_slrXpXXm.tif\", \"VALUE\", myRemapRange)\n",
    "Contra_GW_kh1p0_slrXpXXm_Reclass = Reclassify(\"Contra_Costa_wt_mhhw_noghb_Kh1p0_slrXpXXm.tif\", \"VALUE\", myRemapRange)\n",
    "Santa_Clara_GW_kh1p0_slrXpXXm_Reclass = Reclassify(\"Santa_Clara_wt_mhhw_noghb_Kh1p0_slrXpXXm.tif \", \"VALUE\", myRemapRange)\n",
    "Marin_GW_kh1p0_slrXpXXm_Reclass = Reclassify(\"Marin_wt_mhhw_noghb_Kh1p0_slrXpXXm.tif\", \"VALUE\", myRemapRange)\n",
    "#Directing ArcPro to reclassify these rasters as specified above.\n",
    "#Must have each original tif file layers open in ArcPro"
   ]
  },
  {
   "cell_type": "markdown",
   "metadata": {},
   "source": [
    "Converting reclassified layers from raster to polygons and saving them to local folder. To Run: <br> 1. Create Counties_Groundwater geodatabase <br>\n",
    "2. Find & Replace:**\"P:\\GIS_projects\\Groundwater\\RSAP_CombinedHazards\\Workspace\\Raw\\\"** with your local folder"
   ]
  },
  {
   "cell_type": "code",
   "execution_count": null,
   "metadata": {},
   "outputs": [],
   "source": [
    "arcpy.conversion.RasterToPolygon(\"AlamedaGW_kh1p0_slrXpXXm_Reclass.tif\", r\"P:\\GIS_projects\\Groundwater\\RSAP_CombinedHazards\\Workspace\\Raw\\Counties_Groundwater.gdb\\AlamedaGW_kh1p0_slrXpXXm_Poly\",\"NO_SIMPLIFY\", \"VALUE\")\n",
    "arcpy.conversion.RasterToPolygon(\"SF_GW_kh1p0_slrXpXXm_Reclass.tif\", r\"P:\\GIS_projects\\Groundwater\\RSAP_CombinedHazards\\Workspace\\Raw\\Counties_Groundwater.gdb\\SFGW_kh1p0_slrXpXXm_Poly\",\"NO_SIMPLIFY\", \"VALUE\")\n",
    "arcpy.conversion.RasterToPolygon(\"Napa_GW_kh1p0_slrXpXXm_Reclass.tif\", r\"P:\\GIS_projects\\Groundwater\\RSAP_CombinedHazards\\Workspace\\Raw\\Counties_Groundwater.gdb\\NapaGW_kh1p0_slrXpXXm_Poly\",\"NO_SIMPLIFY\", \"VALUE\")\n",
    "arcpy.conversion.RasterToPolygon(\"Solano_GW_kh1p0_slrXpXXm_Reclass.tif\", r\"P:\\GIS_projects\\Groundwater\\RSAP_CombinedHazards\\Workspace\\Raw\\Counties_Groundwater.gdb\\SolanoGW_kh1p0_slrXpXXm_Poly\",\"NO_SIMPLIFY\", \"VALUE\")\n",
    "arcpy.conversion.RasterToPolygon(\"Sonoma_GW_kh1p0_slrXpXXm_Reclass.tif\", r\"P:\\GIS_projects\\Groundwater\\RSAP_CombinedHazards\\Workspace\\Raw\\Counties_Groundwater.gdb\\SonomaGW_kh1p0_slrXpXXm_Poly\",\"NO_SIMPLIFY\", \"VALUE\")\n",
    "arcpy.conversion.RasterToPolygon(\"San_Mateo_GW_kh1p0_slrXpXXm_Reclass.tif\", r\"P:\\GIS_projects\\Groundwater\\RSAP_CombinedHazards\\Workspace\\Raw\\Counties_Groundwater.gdb\\SanMateoGW_kh1p0_slrXpXXm_Poly\",\"NO_SIMPLIFY\", \"VALUE\")\n",
    "arcpy.conversion.RasterToPolygon(\"Contra_GW_kh1p0_slrXpXXm_Reclass.tif\", r\"P:\\GIS_projects\\Groundwater\\RSAP_CombinedHazards\\Workspace\\Raw\\Counties_Groundwater.gdb\\ContraGW_kh1p0_slrXpXXm_Poly\",\"NO_SIMPLIFY\", \"VALUE\")\n",
    "arcpy.conversion.RasterToPolygon(\"Santa_Clara_GW_kh1p0_slrXpXXm_Reclass.tif\", r\"P:\\GIS_projects\\Groundwater\\RSAP_CombinedHazards\\Workspace\\Raw\\Counties_Groundwater.gdb\\SantaClaraGW_kh1p0_slrXpXXm_Poly\",\"NO_SIMPLIFY\", \"VALUE\")\n",
    "arcpy.conversion.RasterToPolygon(\"Marin_GW_kh1p0_slrXpXXm_Reclass.tif\", r\"P:\\GIS_projects\\Groundwater\\RSAP_CombinedHazards\\Workspace\\Raw\\Counties_Groundwater.gdb\\MarinGW_kh1p0_slrXpXXm_Poly\",\"NO_SIMPLIFY\", \"VALUE\")"
   ]
  },
  {
   "cell_type": "markdown",
   "metadata": {},
   "source": [
    "Dissolve Polygons into multi part polygons - one polygon per reclass"
   ]
  },
  {
   "cell_type": "code",
   "execution_count": null,
   "metadata": {},
   "outputs": [],
   "source": [
    "arcpy.management.Dissolve(\"AlamedaGW_kh1p0_slrXpXXm_Poly\", r\"P:\\GIS_projects\\Groundwater\\RSAP_CombinedHazards\\Workspace\\Raw\\Counties_Groundwater.gdb\\AlamedaGW_kh1p0_slrXpXXm_Diss\", \"gridcode\")\n",
    "arcpy.management.Dissolve(\"SFGW_kh1p0_slrXpXXm_Poly\", r\"P:\\GIS_projects\\Groundwater\\RSAP_CombinedHazards\\Workspace\\Raw\\Counties_Groundwater.gdb\\SFGW_kh1p0_slrXpXXm_Diss\", \"gridcode\")\n",
    "arcpy.management.Dissolve(\"NapaGW_kh1p0_slrXpXXm_Poly\", r\"P:\\GIS_projects\\Groundwater\\RSAP_CombinedHazards\\Workspace\\Raw\\Counties_Groundwater.gdb\\NapaGW_kh1p0_slrXpXXm_Diss\", \"gridcode\")\n",
    "arcpy.management.Dissolve(\"SonomaGW_kh1p0_slrXpXXm_Poly\", r\"P:\\GIS_projects\\Groundwater\\RSAP_CombinedHazards\\Workspace\\Raw\\Counties_Groundwater.gdb\\SonomaGW_kh1p0_slrXpXXm_Diss\", \"gridcode\")\n",
    "arcpy.management.Dissolve(\"SolanoGW_kh1p0_slrXpXXm_Poly\", r\"P:\\GIS_projects\\Groundwater\\RSAP_CombinedHazards\\Workspace\\Raw\\Counties_Groundwater.gdb\\SolanoGW_kh1p0_slrXpXXm_Diss\", \"gridcode\")\n",
    "arcpy.management.Dissolve(\"SanMateoGW_kh1p0_slrXpXXm_Poly\", r\"P:\\GIS_projects\\Groundwater\\RSAP_CombinedHazards\\Workspace\\Raw\\Counties_Groundwater.gdb\\SanMateoGW_kh1p0_slrXpXXm_Diss\", \"gridcode\")\n",
    "arcpy.management.Dissolve(\"ContraGW_kh1p0_slrXpXXm_Poly\", r\"P:\\GIS_projects\\Groundwater\\RSAP_CombinedHazards\\Workspace\\Raw\\Counties_Groundwater.gdb\\ContraGW_kh1p0_slrXpXXm_Diss\", \"gridcode\")\n",
    "arcpy.management.Dissolve(\"SantaClaraGW_kh1p0_slrXpXXm_Poly\", r\"P:\\GIS_projects\\Groundwater\\RSAP_CombinedHazards\\Workspace\\Raw\\Counties_Groundwater.gdb\\SantaClaraGW_kh1p0_slrXpXXm_Diss\", \"gridcode\")\n",
    "arcpy.management.Dissolve(\"MarinGW_kh1p0_slrXpXXm_Poly\", r\"P:\\GIS_projects\\Groundwater\\RSAP_CombinedHazards\\Workspace\\Raw\\Counties_Groundwater.gdb\\MarinGW_kh1p0_slrXpXXm_Diss\", \"gridcode\")\n",
    "#dissolving polygons"
   ]
  },
  {
   "cell_type": "markdown",
   "metadata": {},
   "source": [
    "Merge county dissolved layers into one layer"
   ]
  },
  {
   "cell_type": "code",
   "execution_count": null,
   "metadata": {},
   "outputs": [],
   "source": [
    "arcpy.management.Merge([\"AlamedaGW_kh1p0_slrXpXXm_Diss\",\"SFGW_kh1p0_slrXpXXm_Diss\",\"NapaGW_kh1p0_slrXpXXm_Diss\",\"SonomaGW_kh1p0_slrXpXXm_Diss\",\"SolanoGW_kh1p0_slrXpXXm_Diss\",\"SanMateoGW_kh1p0_slrXpXXm_Diss\",\"ContraGW_kh1p0_slrXpXXm_Diss\",\"SantaClaraGW_kh1p0_slrXpXXm_Diss\", \"MarinGW_kh1p0_slrXpXXm_Diss\"], r\"P:\\GIS_projects\\Groundwater\\RSAP_CombinedHazards\\Workspace\\Raw\\Regional_Groundwater.gdb\\BayArea_kh1p0_slrXpXXm\")\n",
    "#merging counties to create one bay area layer"
   ]
  },
  {
   "cell_type": "markdown",
   "metadata": {},
   "source": [
    "Dissolve Merged layer"
   ]
  },
  {
   "cell_type": "code",
   "execution_count": null,
   "metadata": {},
   "outputs": [],
   "source": [
    "arcpy.management.Dissolve(\"BayArea_kh1p0_slrXpXXm\", r\"P:\\GIS_projects\\Groundwater\\RSAP_CombinedHazards\\Workspace\\Raw\\Regional_Groundwater.gdb\\BayAreaGW_kh1p0_slrXpXXm_Diss\", \"gridcode\")\n",
    "#dissolving bay area layer"
   ]
  },
  {
   "cell_type": "markdown",
   "metadata": {},
   "source": [
    "*Before running next cell! Must have \"RSAP_PlanningArea_prj_Waterbodies_Removed\" loaded in the Map.* Should be available in the combined hazard github <br> <br> Clipping data to only the planning area. Removing the outer coast and waterbodies"
   ]
  },
  {
   "cell_type": "code",
   "execution_count": null,
   "metadata": {},
   "outputs": [],
   "source": [
    "arcpy.analysis.Clip(\"BayAreaGW_kh1p0_slrXpXXm_Diss\",\"RSAP_PlanningArea_prj_Waterbodies_Removed\",r\"P:\\GIS_projects\\Groundwater\\RSAP_CombinedHazards\\Workspace\\Raw\\Regional_Groundwater.gdb\\BayAreaGW_kh1p0_slrXpXXm_waterremoved\")\n",
    "#Clipping Layer to \"RSAP_.\"PlanningArea_prj_Waterbodies_Removed.\" Make sure planning area layer is already added to ArcPro"
   ]
  },
  {
   "cell_type": "markdown",
   "metadata": {},
   "source": [
    "*Before running next cell! Must have the \"Wt_0to10m_Kh1_SLR0_BayArea_RSAP_outline\" loaded in the Map* Should be available in the combined hazards github <br> <br> Removing all areas where depth to water table is greater than 10m"
   ]
  },
  {
   "cell_type": "code",
   "execution_count": null,
   "metadata": {},
   "outputs": [],
   "source": [
    "arcpy.analysis.Clip(\"BayAreaGW_kh1p0_slrXpXXm_waterremoved\",\"Wt_0to10m_Kh1_SLR0_BayArea_RSAP_outline\",r\"P:\\GIS_projects\\Groundwater\\RSAP_CombinedHazards\\Workspace\\Raw\\Regional_Groundwater.gdb\\BayAreaGW_kh1p0_slrXpXXm_Final_ft\")\n",
    "#Clipping Layer to \"RSAP_.\"PlanningArea_prj_Waterbodies_Removed.\" Make sure planning area layer is already added to ArcPro"
   ]
  },
  {
   "cell_type": "markdown",
   "metadata": {},
   "source": [
    "Select gridcode = 4. This is all areas where the depth to groundwater is deeper than 9ft"
   ]
  },
  {
   "cell_type": "code",
   "execution_count": null,
   "metadata": {},
   "outputs": [],
   "source": [
    "query3 = '\"gridcode\" > 3'\n",
    "arcpy.management.SelectLayerByAttribute(\"BayAreaGW_kh1p0_slrXpXXm_Final_ft\", \"NEW_SELECTION\", query3)\n",
    "#Select geometries that are deeper than 9 feet"
   ]
  },
  {
   "cell_type": "markdown",
   "metadata": {},
   "source": [
    "Delete selected features"
   ]
  },
  {
   "cell_type": "code",
   "execution_count": null,
   "metadata": {},
   "outputs": [],
   "source": [
    "if int(arcpy.management.GetCount(\"BayAreaGW_kh1p0_slrXpXXm_Final_ft\")[0]) > 0:\n",
    "    arcpy.management.DeleteFeatures(\"BayAreaGW_kh1p0_slrXpXXm_Final_ft\")\n",
    "#delete selected geometries"
   ]
  },
  {
   "cell_type": "markdown",
   "metadata": {},
   "source": [
    "<span style=\"font-size:20px\">**STEP TWO:**\n",
    "Define areas where groundwater Rise is impacted by Sea Level Rise (> 4in change)"
   ]
  },
  {
   "cell_type": "markdown",
   "metadata": {},
   "source": [
    "Must download and add original Head rasters to the project map to perform analysis. They can be found: <br>\"https://www.sciencebase.gov/catalog/item/5bda14abe4b0b3fc5cec39b0\"\n",
    "<br>\n",
    "<br>\n",
    "Choose Kh1p0 for each county and use the same scenario for each"
   ]
  },
  {
   "cell_type": "code",
   "execution_count": null,
   "metadata": {},
   "outputs": [],
   "source": [
    "Alameda_XpXXm_dif_raster = RasterCalculator([\"Alameda_head_mhhw_noghb_Kh1p0_slrXpXXm.tif\", \"Alameda_head_mhhw_noghb_Kh1p0_slr0p00m.tif\"],[\"x\",\"y\"],\"x-y\")\n",
    "Alameda_XpXXm_dif_raster.save(r\"P:\\GIS_Projects\\Groundwater\\RSAP_CombinedHazards\\Workspace\\Raw\\Rasters\\Alameda_XpXXm_dif_raster.tif\")\n",
    "#Create Raster that shows the difference in Groundwater Between Baseline(SLR0p00m) and chosen scenario"
   ]
  },
  {
   "cell_type": "code",
   "execution_count": null,
   "metadata": {},
   "outputs": [],
   "source": [
    "Contra_Costa_XpXXm_dif_raster = RasterCalculator([\"Contra_Costa_head_mhhw_noghb_Kh1p0_slrXpXXm.tif\", \"Contra_Costa_head_mhhw_noghb_Kh1p0_slr0p00m.tif\"],[\"x\",\"y\"],\"x-y\")\n",
    "Contra_Costa_XpXXm_dif_raster.save(r\"P:\\GIS_Projects\\Groundwater\\RSAP_CombinedHazards\\Workspace\\Raw\\Rasters\\Contra_Costa_XpXXm_dif_raster.tif\")\n",
    "#Create Raster that shows the difference in Groundwater Between Baseline(SLR0p00m) and chosen scenario"
   ]
  },
  {
   "cell_type": "code",
   "execution_count": null,
   "metadata": {},
   "outputs": [],
   "source": [
    "Marin_XpXXm_dif_raster = RasterCalculator([\"Marin_head_mhhw_noghb_Kh1p0_slrXpXXm.tif\", \"Marin_head_mhhw_noghb_Kh1p0_slr0p00m.tif\"],[\"x\",\"y\"],\"x-y\")\n",
    "Marin_XpXXm_dif_raster.save(r\"P:\\GIS_Projects\\Groundwater\\RSAP_CombinedHazards\\Workspace\\Raw\\Rasters\\Marin_XpXXm_dif_raster.tif\")\n",
    "#Create Raster that shows the difference in Groundwater Between Baseline(SLR0p00m) and chosen scenario"
   ]
  },
  {
   "cell_type": "code",
   "execution_count": null,
   "metadata": {},
   "outputs": [],
   "source": [
    "Napa_XpXXm_dif_raster = RasterCalculator([\"Napa_head_mhhw_noghb_Kh1p0_slrXpXXm.tif\", \"Napa_head_mhhw_noghb_Kh1p0_slr0p00m.tif\"],[\"x\",\"y\"],\"x-y\")\n",
    "Napa_XpXXm_dif_raster.save(r\"P:\\GIS_Projects\\Groundwater\\RSAP_CombinedHazards\\Workspace\\Raw\\Rasters\\Napa_XpXXm_dif_raster.tif\")\n",
    "#Create Raster that shows the difference in Groundwater Between Baseline(SLR0p00m) and chosen scenario"
   ]
  },
  {
   "cell_type": "code",
   "execution_count": null,
   "metadata": {},
   "outputs": [],
   "source": [
    "San_Francisco_XpXXm_dif_raster = RasterCalculator([\"San_Francisco_head_mhhw_noghb_Kh1p0_slrXpXXm.tif\", \"San_Francisco_head_mhhw_noghb_Kh1p0_slr0p00m.tif\"],[\"x\",\"y\"],\"x-y\")\n",
    "San_Francisco_XpXXm_dif_raster.save(r\"P:\\GIS_Projects\\Groundwater\\RSAP_CombinedHazards\\Workspace\\Raw\\Rasters\\San_Francisco_XpXXm_dif_raster.tif\")\n",
    "#Create Raster that shows the difference in Groundwater Between Baseline(SLR0p00m) and chosen scenario"
   ]
  },
  {
   "cell_type": "code",
   "execution_count": null,
   "metadata": {},
   "outputs": [],
   "source": [
    "San_Mateo_XpXXm_dif_raster = RasterCalculator([\"San_Mateo_head_mhhw_noghb_Kh1p0_slrXpXXm.tif\", \"San_Mateo_head_mhhw_noghb_Kh1p0_slr0p00m.tif\"],[\"x\",\"y\"],\"x-y\")\n",
    "San_Mateo_XpXXm_dif_raster.save(r\"P:\\GIS_Projects\\Groundwater\\RSAP_CombinedHazards\\Workspace\\Raw\\Rasters\\San_Mateo_XpXXm_dif_raster.tif\")\n",
    "#Create Raster that shows the difference in Groundwater Between Baseline(SLR0p00m) and chosen scenario"
   ]
  },
  {
   "cell_type": "code",
   "execution_count": null,
   "metadata": {
    "scrolled": true
   },
   "outputs": [],
   "source": [
    "Santa_Clara_XpXXm_dif_raster = RasterCalculator([\"Santa_Clara_head_mhhw_noghb_Kh1p0_slrXpXXm.tif\", \"Santa_Clara_head_mhhw_noghb_Kh1p0_slr0p00m.tif\"],[\"x\",\"y\"],\"x-y\")\n",
    "Santa_Clara_XpXXm_dif_raster.save(r\"P:\\GIS_Projects\\Groundwater\\RSAP_CombinedHazards\\Workspace\\Raw\\Rasters\\Santa_Clara_XpXXm_dif_raster.tif\")\n",
    "#Create Raster that shows the difference in Groundwater Between Baseline(SLR0p00m) and chosen scenario"
   ]
  },
  {
   "cell_type": "code",
   "execution_count": null,
   "metadata": {},
   "outputs": [],
   "source": [
    "Solano_XpXXm_dif_raster = RasterCalculator([\"Solano_head_mhhw_noghb_Kh1p0_slrXpXXm.tif\", \"Solano_head_mhhw_noghb_Kh1p0_slr0p00m.tif\"],[\"x\",\"y\"],\"x-y\")\n",
    "Solano_XpXXm_dif_raster.save(r\"P:\\GIS_Projects\\Groundwater\\RSAP_CombinedHazards\\Workspace\\Raw\\Rasters\\Solano_XpXXm_dif_raster.tif\")\n",
    "#Create Raster that shows the difference in Groundwater Between Baseline(SLR0p00m) and chosen scenario"
   ]
  },
  {
   "cell_type": "code",
   "execution_count": null,
   "metadata": {},
   "outputs": [],
   "source": [
    "Sonoma_XpXXm_dif_raster = RasterCalculator([\"Sonoma_head_mhhw_noghb_Kh1p0_slrXpXXm.tif\", \"Sonoma_head_mhhw_noghb_Kh1p0_slr0p00m.tif\"],[\"x\",\"y\"],\"x-y\")\n",
    "Sonoma_XpXXm_dif_raster.save(r\"P:\\GIS_Projects\\Groundwater\\RSAP_CombinedHazards\\Workspace\\Raw\\Rasters\\Sonoma_XpXXm_dif_raster.tif\")\n",
    "#Create Raster that shows the difference in Groundwater Between Baseline(SLR0p00m) and chosen scenario"
   ]
  },
  {
   "cell_type": "markdown",
   "metadata": {},
   "source": [
    "**STOP** *Before running next cell! Must have the \"{County}_head_mhhw_noghb_Kh1p0_slrXpXX0m.tif\" for each county loaded in the Map <br>\n",
    "(it will not add them automatically)* <br><br> Reclassifying into two bins, 0 = change of less than 4in; 1 = change of more than 4in"
   ]
  },
  {
   "cell_type": "code",
   "execution_count": null,
   "metadata": {},
   "outputs": [],
   "source": [
    "myRemapRange = RemapRange([[-800, .1016, 0], [.1016, 800, 1]]) \n",
    "#Creating bins for reclassification. Everything that has less than 4in of change in GW level from SLR is classified as O, more is classified as 1"
   ]
  },
  {
   "cell_type": "code",
   "execution_count": null,
   "metadata": {},
   "outputs": [],
   "source": [
    "Alameda_XpXXm_dif_raster_Reclass = Reclassify(\"Alameda_XpXXm_dif_raster.tif\", \"VALUE\", myRemapRange)\n",
    "Contra_Costa_XpXXm_dif_raster_Reclass = Reclassify(\"Contra_Costa_XpXXm_dif_raster.tif\", \"VALUE\", myRemapRange)\n",
    "San_Francisco_XpXXm_dif_raster_Reclass = Reclassify(\"San_Francisco_XpXXm_dif_raster.tif\", \"VALUE\", myRemapRange)\n",
    "Napa_XpXXm_dif_raster_Reclass = Reclassify(\"Napa_XpXXm_dif_raster.tif\", \"VALUE\", myRemapRange)\n",
    "Sonoma_XpXXm_dif_raster_Reclass = Reclassify(\"Sonoma_XpXXm_dif_raster.tif\", \"VALUE\", myRemapRange)\n",
    "Solano_XpXXm_dif_raster_Reclass = Reclassify(\"Solano_XpXXm_dif_raster.tif\", \"VALUE\", myRemapRange)\n",
    "San_Mateo_XpXXm_dif_raster_Reclass = Reclassify(\"San_Mateo_XpXXm_dif_raster.tif\", \"VALUE\", myRemapRange)\n",
    "Santa_Clara_XpXXm_dif_raster_Reclass = Reclassify(\"Santa_Clara_XpXXm_dif_raster.tif \", \"VALUE\", myRemapRange)\n",
    "Marin_XpXXm_dif_raster_Reclass = Reclassify(\"Marin_XpXXm_dif_raster.tif\", \"VALUE\", myRemapRange)\n",
    "#Directing ArcPro to reclassify these rasters as specified above.\n",
    "#Must add each Reclass layer to the map (do not open automatically...I am not sure why)"
   ]
  },
  {
   "cell_type": "markdown",
   "metadata": {},
   "source": [
    "Converting reclassified layers from raster to polygon"
   ]
  },
  {
   "cell_type": "code",
   "execution_count": null,
   "metadata": {},
   "outputs": [],
   "source": [
    "arcpy.conversion.RasterToPolygon(\"Alameda_XpXXm_dif_raster_Reclass\", r\"P:\\GIS_Projects\\Groundwater\\RSAP_CombinedHazards\\Workspace\\Raw\\Counties_Groundwater.gdb\\Alameda_XpXXm_dif_poly\",\"NO_SIMPLIFY\", \"VALUE\")\n",
    "arcpy.conversion.RasterToPolygon(\"Contra_Costa_XpXXm_dif_raster_Reclass\", r\"P:\\GIS_Projects\\Groundwater\\RSAP_CombinedHazards\\Workspace\\Raw\\Counties_Groundwater.gdb\\Contra_Costa_XpXXm_dif_poly\",\"NO_SIMPLIFY\", \"VALUE\")\n",
    "arcpy.conversion.RasterToPolygon(\"Marin_XpXXm_dif_raster_Reclass\", r\"P:\\GIS_Projects\\Groundwater\\RSAP_CombinedHazards\\Workspace\\Raw\\Counties_Groundwater.gdb\\Marin_XpXXm_dif_poly\",\"NO_SIMPLIFY\", \"VALUE\")\n",
    "arcpy.conversion.RasterToPolygon(\"Napa_XpXXm_dif_raster_Reclass\", r\"P:\\GIS_Projects\\Groundwater\\RSAP_CombinedHazards\\Workspace\\Raw\\Counties_Groundwater.gdb\\Napa_XpXXm_dif_poly\",\"NO_SIMPLIFY\", \"VALUE\")\n",
    "arcpy.conversion.RasterToPolygon(\"San_Francisco_XpXXm_dif_raster_Reclass\", r\"P:\\GIS_Projects\\Groundwater\\RSAP_CombinedHazards\\Workspace\\Raw\\Counties_Groundwater.gdb\\San_Francisco_XpXXm_dif_poly\",\"NO_SIMPLIFY\", \"VALUE\")\n",
    "arcpy.conversion.RasterToPolygon(\"San_Mateo_XpXXm_dif_raster_Reclass\", r\"P:\\GIS_Projects\\Groundwater\\RSAP_CombinedHazards\\Workspace\\Raw\\Counties_Groundwater.gdb\\San_Mateo_XpXXm_dif_poly\",\"NO_SIMPLIFY\", \"VALUE\")\n",
    "arcpy.conversion.RasterToPolygon(\"Santa_Clara_XpXXm_dif_raster_Reclass\", r\"P:\\GIS_Projects\\Groundwater\\RSAP_CombinedHazards\\Workspace\\Raw\\Counties_Groundwater.gdb\\Santa_Clara_XpXXm_dif_poly\",\"NO_SIMPLIFY\", \"VALUE\")\n",
    "arcpy.conversion.RasterToPolygon(\"Solano_XpXXm_dif_raster_Reclass\", r\"P:\\GIS_Projects\\Groundwater\\RSAP_CombinedHazards\\Workspace\\Raw\\Counties_Groundwater.gdb\\Solano_XpXXm_dif_poly\",\"NO_SIMPLIFY\", \"VALUE\")\n",
    "arcpy.conversion.RasterToPolygon(\"Sonoma_XpXXm_dif_raster_Reclass\", r\"P:\\GIS_Projects\\Groundwater\\RSAP_CombinedHazards\\Workspace\\Raw\\Counties_Groundwater.gdb\\Sonoma_XpXXm_dif_poly\",\"NO_SIMPLIFY\", \"VALUE\")\n",
    "#Raster to Polygon"
   ]
  },
  {
   "cell_type": "markdown",
   "metadata": {},
   "source": [
    "Merging county dissolved layer into one layer"
   ]
  },
  {
   "cell_type": "code",
   "execution_count": null,
   "metadata": {},
   "outputs": [],
   "source": [
    "arcpy.management.Merge([\"Sonoma_XpXXm_dif_poly\",\"Alameda_XpXXm_dif_poly\",\"Napa_XpXXm_dif_poly\",\"San_Francisco_XpXXm_dif_poly\",\"Solano_XpXXm_dif_poly\",\"San_Mateo_XpXXm_dif_poly\",\"Contra_Costa_XpXXm_dif_poly\",\"Santa_Clara_XpXXm_dif_poly\", \"Marin_XpXXm_dif_poly\"],r\"P:\\GIS_Projects\\Groundwater\\RSAP_CombinedHazards\\Workspace\\Raw\\Regional_Groundwater.gdb\\BayArea_kh1p0_slrXpXXm_merge\")\n",
    "#merging counties to create one bay are layer"
   ]
  },
  {
   "cell_type": "markdown",
   "metadata": {},
   "source": [
    "Dissolving merged layer"
   ]
  },
  {
   "cell_type": "code",
   "execution_count": null,
   "metadata": {},
   "outputs": [],
   "source": [
    "arcpy.management.Dissolve(\"BayArea_kh1p0_slrXpXXm_merge\",r\"P:\\GIS_Projects\\Groundwater\\RSAP_CombinedHazards\\Workspace\\Raw\\Regional_Groundwater.gdb\\BayArea_kh1p0_slrXpXXm_dif_dissolve\", \"gridcode\")\n",
    "#Dissolving layers based on reclassified values"
   ]
  },
  {
   "cell_type": "markdown",
   "metadata": {},
   "source": [
    "Removing all areas outside of the planning area"
   ]
  },
  {
   "cell_type": "code",
   "execution_count": null,
   "metadata": {
    "scrolled": true
   },
   "outputs": [],
   "source": [
    "arcpy.analysis.Clip(\"BayArea_kh1p0_slrXpXXm_dif_dissolve\",r\"RSAP_PlanningArea_prj_Waterbodies_Removed\",\"P:\\GIS_Projects\\Groundwater\\RSAP_CombinedHazards\\Workspace\\Raw\\Regional_Groundwater.gdb\\BayArea_kh1p0_slrXpXXm_dif_PlanningArea\")\n",
    "#Clip to Planning Area"
   ]
  },
  {
   "cell_type": "markdown",
   "metadata": {},
   "source": [
    "<span style=\"font-size:20px\">**STEP THREE:**\n",
    "Define areas where groundwater Rise is Flooding/Emergent in Chosen Scenarios (Regardless of Change)"
   ]
  },
  {
   "cell_type": "markdown",
   "metadata": {},
   "source": [
    "Reclassifying raster in to two bins: 0 = emergent/flooding, 1= groundwater below surface"
   ]
  },
  {
   "cell_type": "code",
   "execution_count": null,
   "metadata": {},
   "outputs": [],
   "source": [
    "myRemapRange2 = RemapRange([[-500,0,0],[0,800,1]]) \n",
    "#Creating bins for reclassification. Emergent Areas are classified as 0, all other areas as 1"
   ]
  },
  {
   "cell_type": "code",
   "execution_count": null,
   "metadata": {},
   "outputs": [],
   "source": [
    "Alameda_head_mhhw_noghb_Kh1p0_slrXpXXm_Reclass = Reclassify(\"Alameda_head_mhhw_noghb_Kh1p0_slrXpXXm.tif\", \"VALUE\", myRemapRange2)\n",
    "San_Francisco_head_mhhw_noghb_Kh1p0_slrXpXXm_Reclass = Reclassify(\"San_Francisco_head_mhhw_noghb_Kh1p0_slrXpXXm.tif\", \"VALUE\", myRemapRange2)\n",
    "Napa_head_mhhw_noghb_Kh1p0_slrXpXXm_Reclass = Reclassify(\"Napa_head_mhhw_noghb_Kh1p0_slrXpXXm.tif\", \"VALUE\", myRemapRange2)\n",
    "Sonoma_head_mhhw_noghb_Kh1p0_slrXpXXm_Reclass = Reclassify(\"Sonoma_head_mhhw_noghb_Kh1p0_slrXpXXm.tif\", \"VALUE\", myRemapRange2)\n",
    "Solano_head_mhhw_noghb_Kh1p0_slrXpXXm_Reclass = Reclassify(\"Solano_head_mhhw_noghb_Kh1p0_slrXpXXm.tif\", \"VALUE\", myRemapRange2)\n",
    "San_Mateo_head_mhhw_noghb_Kh1p0_slrXpXXm_Reclass = Reclassify(\"San_Mateo_head_mhhw_noghb_Kh1p0_slrXpXXm.tif\", \"VALUE\", myRemapRange2)\n",
    "Contra_Costa_head_mhhw_noghb_Kh1p0_slrXpXXm_Reclass = Reclassify(\"Contra_Costa_head_mhhw_noghb_Kh1p0_slrXpXXm.tif\", \"VALUE\", myRemapRange2)\n",
    "Santa_Clara_head_mhhw_noghb_Kh1p0_slrXpXXm_Reclass = Reclassify(\"Santa_Clara_head_mhhw_noghb_Kh1p0_slrXpXXm.tif \", \"VALUE\", myRemapRange2)\n",
    "Marin_head_mhhw_noghb_Kh1p0_slrXpXXm_Reclass = Reclassify(\"Marin_head_mhhw_noghb_Kh1p0_slrXpXXm.tif\", \"VALUE\", myRemapRange2)\n",
    "#Directing ArcPro to reclassify these rasters as specified above."
   ]
  },
  {
   "cell_type": "markdown",
   "metadata": {},
   "source": [
    "Converting reclassified layers from raster to polygon"
   ]
  },
  {
   "cell_type": "code",
   "execution_count": null,
   "metadata": {},
   "outputs": [],
   "source": [
    "arcpy.conversion.RasterToPolygon(\"Alameda_head_mhhw_noghb_Kh1p0_slrXpXXm_Reclass\", r\"P:\\GIS_Projects\\Groundwater\\RSAP_CombinedHazards\\Workspace\\Raw\\Counties_Groundwater.gdb\\Alameda_head_mhhw_noghb_Kh1p0_slrXpXXm_Poly\",\"NO_SIMPLIFY\", \"VALUE\")\n",
    "arcpy.conversion.RasterToPolygon(\"Contra_Costa_head_mhhw_noghb_Kh1p0_slrXpXXm_Reclass\", r\"P:\\GIS_Projects\\Groundwater\\RSAP_CombinedHazards\\Workspace\\Raw\\Counties_Groundwater.gdb\\Contra_Costa_head_mhhw_noghb_Kh1p0_slrXpXXm_Poly\",\"NO_SIMPLIFY\", \"VALUE\")\n",
    "arcpy.conversion.RasterToPolygon(\"Marin_head_mhhw_noghb_Kh1p0_slrXpXXm_Reclass\", r\"P:\\GIS_Projects\\Groundwater\\RSAP_CombinedHazards\\Workspace\\Raw\\Counties_Groundwater.gdb\\Marin_head_mhhw_noghb_Kh1p0_slrXpXXm_Poly\",\"NO_SIMPLIFY\", \"VALUE\")\n",
    "arcpy.conversion.RasterToPolygon(\"Napa_head_mhhw_noghb_Kh1p0_slrXpXXm_Reclass\", r\"P:\\GIS_Projects\\Groundwater\\RSAP_CombinedHazards\\Workspace\\Raw\\Counties_Groundwater.gdb\\Napa_head_mhhw_noghb_Kh1p0_slrXpXXm_Poly\",\"NO_SIMPLIFY\", \"VALUE\")\n",
    "arcpy.conversion.RasterToPolygon(\"San_Francisco_head_mhhw_noghb_Kh1p0_slrXpXXm_Reclass\", r\"P:\\GIS_Projects\\Groundwater\\RSAP_CombinedHazards\\Workspace\\Raw\\Counties_Groundwater.gdb\\San_Francisco_head_mhhw_noghb_Kh1p0_slrXpXXm_poly\",\"NO_SIMPLIFY\", \"VALUE\")\n",
    "arcpy.conversion.RasterToPolygon(\"San_Mateo_head_mhhw_noghb_Kh1p0_slrXpXXm_Reclass\", r\"P:\\GIS_Projects\\Groundwater\\RSAP_CombinedHazards\\Workspace\\Raw\\Counties_Groundwater.gdb\\San_Mateo_head_mhhw_noghb_Kh1p0_slrXpXXm_poly\",\"NO_SIMPLIFY\", \"VALUE\")\n",
    "arcpy.conversion.RasterToPolygon(\"Santa_Clara_head_mhhw_noghb_Kh1p0_slrXpXXm_Reclass\", r\"P:\\GIS_Projects\\Groundwater\\RSAP_CombinedHazards\\Workspace\\Raw\\Counties_Groundwater.gdb\\Santa_Clara_head_mhhw_noghb_Kh1p0_slrXpXXm_poly\",\"NO_SIMPLIFY\", \"VALUE\")\n",
    "arcpy.conversion.RasterToPolygon(\"Solano_head_mhhw_noghb_Kh1p0_slrXpXXm_Reclass\", r\"P:\\GIS_Projects\\Groundwater\\RSAP_CombinedHazards\\Workspace\\Raw\\Counties_Groundwater.gdb\\Solano_head_mhhw_noghb_Kh1p0_slrXpXXm_poly\",\"NO_SIMPLIFY\", \"VALUE\")\n",
    "arcpy.conversion.RasterToPolygon(\"Sonoma_head_mhhw_noghb_Kh1p0_slrXpXXm_Reclass\", r\"P:\\GIS_Projects\\Groundwater\\RSAP_CombinedHazards\\Workspace\\Raw\\Counties_Groundwater.gdb\\Sonoma_head_mhhw_noghb_Kh1p0_slrXpXXm_poly\",\"NO_SIMPLIFY\", \"VALUE\")\n",
    "#Raster to Polygon"
   ]
  },
  {
   "cell_type": "markdown",
   "metadata": {},
   "source": [
    "Merging reclassified features"
   ]
  },
  {
   "cell_type": "code",
   "execution_count": null,
   "metadata": {},
   "outputs": [],
   "source": [
    "arcpy.management.Merge([\"Sonoma_head_mhhw_noghb_Kh1p0_slrXpXXm_poly\",\"Alameda_head_mhhw_noghb_Kh1p0_slrXpXXm_poly\",\"Napa_head_mhhw_noghb_Kh1p0_slrXpXXm_poly\",\"San_Francisco_head_mhhw_noghb_Kh1p0_slrXpXXm_poly\",\"Solano_head_mhhw_noghb_Kh1p0_slrXpXXm_poly\",\"San_Mateo_head_mhhw_noghb_Kh1p0_slrXpXXm_poly\",\"Contra_Costa_head_mhhw_noghb_Kh1p0_slrXpXXm_poly\",\"Santa_Clara_head_mhhw_noghb_Kh1p0_slrXpXXm_poly\", \"Marin_head_mhhw_noghb_Kh1p0_slrXpXXm_poly\"], r\"P:\\GIS_Projects\\Groundwater\\RSAP_CombinedHazards\\Workspace\\Raw\\Regional_Groundwater.gdb\\BayArea_head_mhhw_noghb_Kh1p0_slrXpXXm_merge\")\n",
    "#merging counties to create one bay are layer"
   ]
  },
  {
   "cell_type": "markdown",
   "metadata": {},
   "source": [
    "Dissolving features into one bay area layer"
   ]
  },
  {
   "cell_type": "code",
   "execution_count": null,
   "metadata": {},
   "outputs": [],
   "source": [
    "arcpy.management.Dissolve(\"BayArea_head_mhhw_noghb_Kh1p0_slrXpXXm_merge\",r\"P:\\GIS_Projects\\Groundwater\\RSAP_CombinedHazards\\Workspace\\Raw\\Regional_Groundwater.gdb\\BayArea_head_mhhw_noghb_Kh1p0_slrXpXXm_dissolve\", \"gridcode\")\n",
    "#dissolve layer based around reclassified values"
   ]
  },
  {
   "cell_type": "markdown",
   "metadata": {},
   "source": [
    "Clipping to planning area"
   ]
  },
  {
   "cell_type": "code",
   "execution_count": null,
   "metadata": {
    "scrolled": true
   },
   "outputs": [],
   "source": [
    "arcpy.analysis.Clip(\"BayArea_head_mhhw_noghb_Kh1p0_slrXpXXm_dissolve\",\"RSAP_PlanningArea_prj_Waterbodies_Removed\",r\"P:\\GIS_Projects\\Groundwater\\RSAP_CombinedHazards\\Workspace\\Raw\\Regional_Groundwater.gdb\\BayArea_head_mhhw_noghb_Kh1p0_slrXpXXm_PlanningArea\")\n",
    "#Clip to Planning Area"
   ]
  },
  {
   "cell_type": "markdown",
   "metadata": {},
   "source": [
    "<span style=\"font-size:20px\">**STEP Four:**\n",
    "Combine Emergent + GW Change Layers"
   ]
  },
  {
   "cell_type": "markdown",
   "metadata": {},
   "source": [
    "Select gridcode = 1 (this is areas where groundwater depth has changed by less than 4in)"
   ]
  },
  {
   "cell_type": "code",
   "execution_count": null,
   "metadata": {},
   "outputs": [],
   "source": [
    "query = '\"gridcode\" = + 1'\n",
    "arcpy.management.SelectLayerByAttribute(\"BayArea_head_mhhw_noghb_Kh1p0_slrXpXXm_PlanningArea\", \"NEW_SELECTION\", query)\n",
    "#Select geometries that are not classified as emergent"
   ]
  },
  {
   "cell_type": "markdown",
   "metadata": {},
   "source": [
    "Delete selection"
   ]
  },
  {
   "cell_type": "code",
   "execution_count": null,
   "metadata": {},
   "outputs": [],
   "source": [
    "if int(arcpy.management.GetCount(\"BayArea_head_mhhw_noghb_Kh1p0_slrXpXXm_PlanningArea\")[0]) > 0:\n",
    "    arcpy.management.DeleteFeatures(\"BayArea_head_mhhw_noghb_Kh1p0_slrXpXXm_PlanningArea\")\n",
    "#delete selected geometries"
   ]
  },
  {
   "cell_type": "markdown",
   "metadata": {},
   "source": [
    "Select gridcode = 0 (areas where groundwater is not emergent/flooding)"
   ]
  },
  {
   "cell_type": "code",
   "execution_count": null,
   "metadata": {
    "scrolled": true
   },
   "outputs": [],
   "source": [
    "query1 = '\"gridcode\" = + 0'\n",
    "arcpy.management.SelectLayerByAttribute(\"BayArea_kh1p0_slrXpXXm_dif_PlanningArea\", \"NEW_SELECTION\", query1)\n",
    "#Select geometries that have not had more than 4in of change in GW levls from SLR"
   ]
  },
  {
   "cell_type": "markdown",
   "metadata": {},
   "source": [
    "Delete selection"
   ]
  },
  {
   "cell_type": "code",
   "execution_count": null,
   "metadata": {},
   "outputs": [],
   "source": [
    "if int(arcpy.management.GetCount(\"BayArea_kh1p0_slrXpXXm_dif_PlanningArea\")[0]) > 0:\n",
    "    arcpy.management.DeleteFeatures(\"BayArea_kh1p0_slrXpXXm_dif_PlanningArea\")\n",
    "#delete selected geometries"
   ]
  },
  {
   "cell_type": "markdown",
   "metadata": {},
   "source": [
    "Merge layers of where groundwater has changed by more than 4in and where it is emergent/flooding to create comprehensive layer that shows where rising groundwater due to SLR is a risk"
   ]
  },
  {
   "cell_type": "code",
   "execution_count": null,
   "metadata": {},
   "outputs": [],
   "source": [
    "arcpy.management.Merge([\"BayArea_kh1p0_slrXpXXm_dif_PlanningArea\",\"BayArea_head_mhhw_noghb_Kh1p0_slrXpXXm_PlanningArea\"], r\"P:\\GIS_Projects\\Groundwater\\RSAP_CombinedHazards\\Workspace\\Raw\\Regional_Groundwater.gdb\\BayArea_dif_Kh1p0_slrXpXXm_combined\")\n",
    "#merge Emergent and Change Layers to create layer with all impacted areas"
   ]
  },
  {
   "cell_type": "markdown",
   "metadata": {},
   "source": [
    "**STOP** *Before running next cell!* Must have the \"Wt_0to10m_Kh1_SLR0_BayArea_RSAP_outline\" loaded in the Map*. It should be saved in the git repository. <br> <br> Clipping combined groundwater hazard layer to 10m boundry."
   ]
  },
  {
   "cell_type": "code",
   "execution_count": null,
   "metadata": {},
   "outputs": [],
   "source": [
    "arcpy.analysis.Clip(\"BayArea_dif_Kh1p0_slrXpXXm_combined\",\"Wt_0to10m_Kh1_SLR0_BayArea_RSAP_outline\",r\"P:\\GIS_Library\\NaturalHazards\\ShallowGroundwater\\ShallowGroundwater_USGS_2020\\GroundwaterHead\\Regional_Groundwater.gdb\\BayArea_head_mhhw_noghb_Kh1p0_slrXpXXm_ComboFinal\")\n",
    "#Clip to 10m depth area"
   ]
  },
  {
   "cell_type": "markdown",
   "metadata": {},
   "source": [
    "Clipping groundwater hazard layer binned by 3ft intervals to only the areas that are emergent/flooding or where the depth to groundwater has decreased by 4 or more inches due to sea level rise"
   ]
  },
  {
   "cell_type": "code",
   "execution_count": null,
   "metadata": {},
   "outputs": [],
   "source": [
    "arcpy.analysis.Clip(\"BayAreaGW_kh1p0_slrXpXXm_Final_ft\",\"BayArea_head_mhhw_noghb_Kh1p0_slrXpXXm_ComboFinal\",r\"P:\\GIS_Library\\NaturalHazards\\ShallowGroundwater\\ShallowGroundwater_USGS_2020\\GroundwaterHead\\Regional_Groundwater.gdb\\BayAreaGW_kh1p0_slrXpXXm_Final\")\n",
    "#Clip final_ft to Combo Final\n"
   ]
  },
  {
   "cell_type": "markdown",
   "metadata": {},
   "source": [
    "<span style=\"font-size:20px\">**Step 5:** Create Strom Surge Layer"
   ]
  },
  {
   "cell_type": "markdown",
   "metadata": {},
   "source": [
    "**STOP** *Must have correct \"BayArea_inundation_poly_XX_Diss\" for the predicted Storm Surge and Sea Level Rise for each sceanrio loaded in the Map*  <br> <br>This data can be downloaded from: <br> https://explorer.adaptingtorisingtides.org/download"
   ]
  },
  {
   "cell_type": "markdown",
   "metadata": {},
   "source": [
    "Combine SLR and Storm Surge layers (replace XX with correct SLR and storm surge amount)"
   ]
  },
  {
   "cell_type": "code",
   "execution_count": null,
   "metadata": {},
   "outputs": [],
   "source": [
    "arcpy.analysis.Union([\"BayArea_inundation_poly_XX_Diss\", \"BayArea_inundation_poly_XX(stormsurge)_Diss\"], r\"P:\\GIS_projects\\Groundwater\\RSAP_CombinedHazards\\Workspace\\Raw\\StormSurge.gdb\\BayArea_inundation_XpXXmSLR_StormSurge_Union\")\n",
    "#Union of the StormSurge and Still SLR amount\""
   ]
  },
  {
   "cell_type": "markdown",
   "metadata": {},
   "source": [
    "Select geometries (choose smaller number of 2 for XX) that do not include storm surge"
   ]
  },
  {
   "cell_type": "code",
   "execution_count": null,
   "metadata": {},
   "outputs": [],
   "source": [
    "query2 = '\"FID_BayArea_inundation_poly_XX_Diss\" = + 0'\n",
    "arcpy.management.SelectLayerByAttribute(\"BayArea_inundation_XpXXmSLR_StormSurge_Union\", \"NEW_SELECTION\", query2)"
   ]
  },
  {
   "cell_type": "markdown",
   "metadata": {},
   "source": [
    "Delete selected geometries that do not include storm surge"
   ]
  },
  {
   "cell_type": "code",
   "execution_count": null,
   "metadata": {},
   "outputs": [],
   "source": [
    "if int(arcpy.management.GetCount(\"BayArea_inundation_XpXXmSLR_StormSurge_Union\")[0]) > 0:\n",
    "    arcpy.management.DeleteFeatures(\"BayArea_inundation_XpXXmSLR_StormSurge_Union\")"
   ]
  },
  {
   "cell_type": "markdown",
   "metadata": {},
   "source": [
    "Combine final groundwater layer with Sea level rise layer"
   ]
  },
  {
   "cell_type": "code",
   "execution_count": null,
   "metadata": {},
   "outputs": [],
   "source": [
    "arcpy.analysis.Union([\"BayAreaGW_kh1p0_slrXpXXm_Final\", \"BayArea_inundation_poly_XX_Diss\"], r\"P:\\GIS_projects\\Groundwater\\RSAP_CombinedHazards\\Workspace\\Raw\\StormSurge.gdb\\BayAreaGW_kh1p0_SLR_XpXXm_Inundation\")\n",
    "#combine SLR and Groundwater"
   ]
  },
  {
   "cell_type": "markdown",
   "metadata": {},
   "source": [
    "Combine layer created in the previous step with storm surge layer"
   ]
  },
  {
   "cell_type": "code",
   "execution_count": null,
   "metadata": {},
   "outputs": [],
   "source": [
    "arcpy.analysis.Union([\"BayAreaGW_kh1p0_SLR_XpXXm_Inundation\", \"BayArea_inundation_XpXXmSLR_StormSurge_Union\"], r\"P:\\GIS_projects\\Groundwater\\RSAP_CombinedHazards\\Workspace\\Raw\\StormSurge.gdb\\BayAreaGW_kh1p0_SLR_XpXXm_Combined\")\n",
    "#Combine newly combined SLR and GW layer with Storm Surge"
   ]
  },
  {
   "cell_type": "markdown",
   "metadata": {},
   "source": [
    "Create a new field called \"Hazard_Type\""
   ]
  },
  {
   "cell_type": "code",
   "execution_count": null,
   "metadata": {},
   "outputs": [],
   "source": [
    "arcpy.management.AddField(\"BayAreaGW_kh1p0_SLR_XpXXm_Combined\", \"Hazard_Type\", \"TEXT\")\n",
    "#Add Field that tracks presence of Combined Hazards"
   ]
  },
  {
   "cell_type": "markdown",
   "metadata": {},
   "source": [
    "Categorize combined hazards based on gridcode from original groundwater, sea level rise, and storm surge layers"
   ]
  },
  {
   "cell_type": "code",
   "execution_count": null,
   "metadata": {},
   "outputs": [],
   "source": [
    "inTable2 = \"BayAreaGW_kh1p0_SLR_XpXXm_Combined\"\n",
    "fieldName2 = \"Hazard_Type\"\n",
    "expression2 = \"getClass(!gridcode!,!FID_BayArea_inundation_poly_XX_Diss!,!FID_BayArea_inundation_XpXXmSLR_StormSurge_Union!)\"\n",
    "\n",
    "codeblock2 = \"\"\"\n",
    "def getClass(gridcode,FID_BayArea_inundation_poly_XX_Diss,FID_BayArea_inundation_XpXXmSLR_StormSurge_Union):\n",
    "    if gridcode == 0 and FID_BayArea_inundation_poly_XX_Diss == 0 and FID_BayArea_inundation_XpXXmSLR_StormSurge_Union == -1:\n",
    "        return 'SLR + Storm Surge + Emergent'\n",
    "    if gridcode == 1 and FID_BayArea_inundation_poly_XX_Diss == 0 and FID_BayArea_inundation_XpXXmSLR_StormSurge_Union == -1:\n",
    "        return 'Storm Surge + Very Shallow'\n",
    "    if gridcode == 2 and FID_BayArea_inundation_poly_XX_Diss == 0 and FID_BayArea_inundation_XpXXmSLR_StormSurge_Union == -1:\n",
    "        return 'Storm Surge + Shallow'\n",
    "    if gridcode == 3 and FID_BayArea_inundation_poly_XX_Diss == 0 and FID_BayArea_inundation_XpXXmSLR_StormSurge_Union == -1:\n",
    "        return 'Storm Surge + Moderately Shallow'\n",
    "    if gridcode == 0 and FID_BayArea_inundation_poly_XX_Diss == -1 and FID_BayArea_inundation_XpXXmSLR_StormSurge_Union == 2:\n",
    "        return 'Storm Surge + Emergent'\n",
    "    if gridcode == 1 and FID_BayArea_inundation_poly_XX_Diss == -1 and FID_BayArea_inundation_XpXXmSLR_StormSurge_Union == 2:\n",
    "        return 'Storm Surge + Very Shallow'\n",
    "    if gridcode == 2 and FID_BayArea_inundation_poly_XX_Diss == -1 and FID_BayArea_inundation_XpXXmSLR_StormSurge_Union == 2:\n",
    "        return 'Storm Surge + Shallow'\n",
    "    if gridcode == 3 and FID_BayArea_inundation_poly_XX_Diss == -1 and FID_BayArea_inundation_XpXXmSLR_StormSurge_Union == 2:\n",
    "        return 'Storm Surge + Moderately Shallow'\n",
    "    if gridcode == 0 and FID_BayArea_inundation_poly_XX_Diss == -1 and FID_BayArea_inundation_XpXXmSLR_StormSurge_Union == -1:\n",
    "        return 'Emergent'\n",
    "    if gridcode == 1 and FID_BayArea_inundation_poly_XX_Diss == -1 and FID_BayArea_inundation_XpXXmSLR_StormSurge_Union == -1:\n",
    "        return 'Very Shallow'\n",
    "    if gridcode == 2 and FID_BayArea_inundation_poly_XX_Diss == -1 and FID_BayArea_inundation_XpXXmSLR_StormSurge_Union == -1:\n",
    "        return 'Shallow'\n",
    "    if gridcode == 3 and FID_BayArea_inundation_poly_XX_Diss == -1 and FID_BayArea_inundation_XpXXmSLR_StormSurge_Union == -1:\n",
    "        return 'Moderately Shallow'\n",
    "    if gridcode == 0 and FID_BayArea_inundation_poly_XX_Diss == 0 and FID_BayArea_inundation_XpXXmSLR_StormSurge_Union == 2:\n",
    "        return 'Storm Surge'\n",
    "    else:\n",
    "        return \"SLR + Storm Surge\" \"\"\"\n",
    "#Direct how to classify polygons based on presents of Hazards"
   ]
  },
  {
   "cell_type": "markdown",
   "metadata": {},
   "source": [
    "generate combined hazards from codeblock in Hazard_type field"
   ]
  },
  {
   "cell_type": "code",
   "execution_count": null,
   "metadata": {},
   "outputs": [],
   "source": [
    "arcpy.management.CalculateField(inTable2, fieldName2, expression2, \"PYTHON3\",codeblock2) \n",
    "#always an error the first time it runs (just run again and it should work)\n",
    "#add new classications to layer file"
   ]
  },
  {
   "cell_type": "markdown",
   "metadata": {},
   "source": [
    "Dissolve based on hazard_type"
   ]
  },
  {
   "cell_type": "code",
   "execution_count": null,
   "metadata": {},
   "outputs": [],
   "source": [
    "arcpy.management.Dissolve(inTable2,r\"P:\\GIS_projects\\Groundwater\\RSAP_CombinedHazards\\Workspace\\Raw\\StormSurge.gdb\\BayAreaGW_kh1p0_SLR_XpXXm_Combined_Diss\", \"Hazard_Type\")\n",
    "#Dissolve Layer file "
   ]
  },
  {
   "cell_type": "markdown",
   "metadata": {},
   "source": [
    "Clip final layer to planning area"
   ]
  },
  {
   "cell_type": "code",
   "execution_count": null,
   "metadata": {},
   "outputs": [],
   "source": [
    "arcpy.analysis.Clip(\"BayAreaGW_kh1p0_SLR_XpXXm_Combined_Diss\", \"RSAP_PlanningArea_prj_Waterbodies_Removed\",r\"P:\\GIS_projects\\Groundwater\\RSAP_CombinedHazards\\Final\\Data\\RSAP_Combined_Hazards_BayArea_2024.gdb\\RSAP_Combined_Hazards_XpXft_SLR_SS_GW\")\n",
    "#Dissolve Layer file "
   ]
  },
  {
   "cell_type": "markdown",
   "metadata": {},
   "source": [
    "Repeat Script with Each Hazard Scenario"
   ]
  },
  {
   "cell_type": "markdown",
   "metadata": {},
   "source": [
    "<span style=\"font-size:20px\"> *optional* **Step 6**: Save Rasters"
   ]
  },
  {
   "cell_type": "code",
   "execution_count": null,
   "metadata": {},
   "outputs": [],
   "source": [
    "Marin_head_mhhw_noghb_Kh1p0_slrXpXXm_Reclass.save(r\"P:\\GIS_Projects\\Groundwater\\RSAP_CombinedHazards\\Workspace\\Raw\\Rasters\\Counties_Reclassified\\Marin_head_mhhw_noghb_Kh1p0_slrXpXXm_Reclass.tif\")\n",
    "Santa_Clara_head_mhhw_noghb_Kh1p0_slrXpXXm_Reclass.save(r\"P:\\GIS_Projects\\Groundwater\\RSAP_CombinedHazards\\Workspace\\Raw\\Rasters\\Counties_Reclassified\\Santa_Clara_head_mhhw_noghb_Kh1p0_slrXpXXm_Reclass.tif\")\n",
    "Contra_Costa_head_mhhw_noghb_Kh1p0_slrXpXXm_Reclass.save(r\"P:\\GIS_Projects\\Groundwater\\RSAP_CombinedHazards\\Workspace\\Raw\\Rasters\\Counties_Reclassified\\Contra_Costa_head_mhhw_noghb_Kh1p0_slrXpXXm_Reclass.tif\")\n",
    "San_Mateo_head_mhhw_noghb_Kh1p0_slrXpXXm_Reclass.save(r\"P:\\GIS_Projects\\Groundwater\\RSAP_CombinedHazards\\Workspace\\Raw\\Rasters\\Counties_Reclassified\\San_Mateo_head_mhhw_noghb_Kh1p0_slrXpXXm_Reclass.tif\")\n",
    "Solano_head_mhhw_noghb_Kh1p0_slrXpXXm_Reclass.save(r\"P:\\GIS_Projects\\Groundwater\\RSAP_CombinedHazards\\Workspace\\Raw\\Rasters\\Counties_Reclassified\\Solano_head_mhhw_noghb_Kh1p0_slrXpXXm_Reclass.tif\")\n",
    "Sonoma_head_mhhw_noghb_Kh1p0_slrXpXXm_Reclass.save(r\"P:\\GIS_Projects\\Groundwater\\RSAP_CombinedHazards\\Workspace\\Raw\\Rasters\\Counties_Reclassified\\Sonoma_head_mhhw_noghb_Kh1p0_slrXpXXm_Reclass.tif\")\n",
    "Napa_head_mhhw_noghb_Kh1p0_slrXpXXm_Reclass.save(r\"P:\\GIS_Projects\\Groundwater\\RSAP_CombinedHazards\\Workspace\\Raw\\Rasters\\Counties_Reclassified\\Napa_head_mhhw_noghb_Kh1p0_slrXpXXm_Reclass.tif\")\n",
    "San_Francisco_head_mhhw_noghb_Kh1p0_slrXpXXm_Reclass.save(r\"P:\\GIS_Projects\\Groundwater\\RSAP_CombinedHazards\\Workspace\\Raw\\Rasters\\Counties_Reclassified\\San_Francisco_head_mhhw_noghb_Kh1p0_slrXpXXm_Reclass.tif\")\n",
    "Alameda_head_mhhw_noghb_Kh1p0_slrXpXXm_Reclass.save(r\"P:\\GIS_Projects\\Groundwater\\RSAP_CombinedHazards\\Workspace\\Raw\\Rasters\\Counties_Reclassified\\Alameda_head_mhhw_noghb_Kh1p0_slrXpXXm_Reclass.tif\")"
   ]
  },
  {
   "cell_type": "code",
   "execution_count": null,
   "metadata": {},
   "outputs": [],
   "source": [
    "Marin_XpXXm_dif_raster_Reclass.save(r\"P:\\GIS_Projects\\Groundwater\\RSAP_CombinedHazards\\Workspace\\Raw\\Rasters\\Counties_Reclassified\\Marin_XpXXm_dif_raster_Reclass.tif\")\n",
    "Santa_Clara_XpXXm_dif_raster_Reclass.save(r\"P:\\GIS_Projects\\Groundwater\\RSAP_CombinedHazards\\Workspace\\Raw\\Rasters\\Counties_Reclassified\\Santa_Clara_XpXXm_dif_raster_Reclass.tif\")\n",
    "Contra_Costa_XpXXm_dif_raster_Reclass.save(r\"P:\\GIS_Projects\\Groundwater\\RSAP_CombinedHazards\\Workspace\\Raw\\Rasters\\Counties_Reclassified\\Contra_Costa_XpXXm_dif_raster_Reclass.tif\")\n",
    "San_Mateo_XpXXm_dif_raster_Reclass.save(r\"P:\\GIS_Projects\\Groundwater\\RSAP_CombinedHazards\\Workspace\\Raw\\Rasters\\Counties_Reclassified\\San_Mateo_XpXXm_dif_raster_Reclass.tif\")\n",
    "Solano_XpXXm_dif_raster_Reclass.save(r\"P:\\GIS_Projects\\Groundwater\\RSAP_CombinedHazards\\Workspace\\Raw\\Rasters\\Counties_Reclassified\\Solano_XpXXm_dif_raster_Reclass.tif\")\n",
    "Sonoma_XpXXm_dif_raster_Reclass.save(r\"P:\\GIS_Projects\\Groundwater\\RSAP_CombinedHazards\\Workspace\\Raw\\Rasters\\Counties_Reclassified\\Sonoma_XpXXm_dif_raster_Reclass.tif\")\n",
    "Napa_XpXXm_dif_raster_Reclass.save(r\"P:\\GIS_Projects\\Groundwater\\RSAP_CombinedHazards\\Workspace\\Raw\\Rasters\\Counties_Reclassified\\Napa_XpXXm_dif_raster_Reclass.tif\")\n",
    "San_Francisco_XpXXm_dif_raster_Reclass.save(r\"P:\\GIS_Projects\\Groundwater\\RSAP_CombinedHazards\\Workspace\\Raw\\Rasters\\Counties_Reclassified\\San_Francisco_XpXXm_dif_raster_Reclass.tif\")\n",
    "Alameda_XpXXm_dif_raster_Reclass.save(r\"P:\\GIS_Projects\\Groundwater\\RSAP_CombinedHazards\\Workspace\\Raw\\Rasters\\Counties_Reclassified\\Alameda_XpXXm_dif_raster_Reclass.tif\")"
   ]
  },
  {
   "cell_type": "code",
   "execution_count": null,
   "metadata": {},
   "outputs": [],
   "source": [
    "Marin_GW_kh1p0_slrXpXXm_Reclass.save(r\"P:\\GIS_Projects\\Groundwater\\RSAP_CombinedHazards\\Workspace\\Raw\\Rasters\\Counties_Reclassified\\Marin_GW_kh1p0_slrXpXXm_Reclass.tif\")\n",
    "Santa_Clara_GW_kh1p0_slrXpXXm_Reclass.save(r\"P:\\GIS_Projects\\Groundwater\\RSAP_CombinedHazards\\Workspace\\Raw\\Rasters\\Counties_Reclassified\\Santa_Clara_GW_kh1p0_slrXpXXm_Reclass.tif\")\n",
    "Contra_GW_kh1p0_slrXpXXm_Reclass.save(r\"P:\\GIS_Projects\\Groundwater\\RSAP_CombinedHazards\\Workspace\\Raw\\Rasters\\Counties_Reclassified\\Contra_GW_kh1p0_slrXpXXm_Reclass.tif\")\n",
    "San_Mateo_GW_kh1p0_slrXpXXm_Reclass.save(r\"P:\\GIS_Projects\\Groundwater\\RSAP_CombinedHazards\\Workspace\\Raw\\Rasters\\Counties_Reclassified\\San_Mateo_GW_kh1p0_slrXpXXm_Reclass.tif\")\n",
    "Solano_GW_kh1p0_slrXpXXm_Reclass.save(r\"P:\\GIS_Projects\\Groundwater\\RSAP_CombinedHazards\\Workspace\\Raw\\Rasters\\Counties_Reclassified\\Solano_GW_kh1p0_slrXpXXm_Reclass.tif\")\n",
    "Sonoma_GW_kh1p0_slrXpXXm_Reclass.save(r\"P:\\GIS_Projects\\Groundwater\\RSAP_CombinedHazards\\Workspace\\Raw\\Rasters\\Counties_Reclassified\\Sonoma_GW_kh1p0_slrXpXXm_Reclass.tif\")\n",
    "Napa_GW_kh1p0_slrXpXXm_Reclass.save(r\"P:\\GIS_Projects\\Groundwater\\RSAP_CombinedHazards\\Workspace\\Raw\\Rasters\\Counties_Reclassified\\Napa_GW_kh1p0_slrXpXXm_Reclass.tif\")\n",
    "SF_GW_kh1p0_slrXpXXm_Reclass.save(r\"P:\\GIS_Projects\\Groundwater\\RSAP_CombinedHazards\\Workspace\\Raw\\Rasters\\Counties_Reclassified\\SF_GW_kh1p0_slrXpXXm_Reclass.tif\")\n",
    "AlamedaGW_kh1p0_slrXpXXm_Reclass.save(r\"P:\\GIS_Projects\\Groundwater\\RSAP_CombinedHazards\\Workspace\\Raw\\Rasters\\Counties_Reclassified\\AlamedaGW_kh1p0_slrXpXXm_Reclass.tif\")"
   ]
  }
 ],
 "metadata": {
  "kernelspec": {
   "display_name": "Python 3 (ipykernel)",
   "language": "python",
   "name": "python3"
  },
  "language_info": {
   "codemirror_mode": {
    "name": "ipython",
    "version": 3
   },
   "file_extension": ".py",
   "mimetype": "text/x-python",
   "name": "python",
   "nbconvert_exporter": "python",
   "pygments_lexer": "ipython3",
   "version": "3.11.7"
  }
 },
 "nbformat": 4,
 "nbformat_minor": 4
}
